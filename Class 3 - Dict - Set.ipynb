{
 "cells": [
  {
   "cell_type": "markdown",
   "metadata": {},
   "source": [
    "### Dict \n",
    "> - Mutable - Add update and delete \n",
    "> - Unordered - not support indexing and slicing \n",
    "> - All the keys should be unique\n",
    "> - All the keys should be immutable - int,float,str,tuple "
   ]
  },
  {
   "cell_type": "code",
   "execution_count": 2,
   "metadata": {},
   "outputs": [
    {
     "name": "stdout",
     "output_type": "stream",
     "text": [
      "{'id': 101, 'name': 'ABC', 'sal': 45000}\n"
     ]
    }
   ],
   "source": [
    "d = {\"id\":101,\"name\":\"ABC\",\"sal\":45000}\n",
    "print(d)"
   ]
  },
  {
   "cell_type": "markdown",
   "metadata": {},
   "source": [
    "Hash table :\n",
    "hash(keys) = >index\n",
    "index key \n",
    "O(1)\n",
    "\n",
    "    \n",
    "    "
   ]
  },
  {
   "cell_type": "code",
   "execution_count": 12,
   "metadata": {},
   "outputs": [
    {
     "name": "stdout",
     "output_type": "stream",
     "text": [
      "101\n"
     ]
    }
   ],
   "source": [
    "print(d['id'])"
   ]
  },
  {
   "cell_type": "code",
   "execution_count": 18,
   "metadata": {},
   "outputs": [
    {
     "name": "stdout",
     "output_type": "stream",
     "text": [
      "Key not present\n"
     ]
    }
   ],
   "source": [
    "print(d.get('age',\"Key not present\"))"
   ]
  },
  {
   "cell_type": "code",
   "execution_count": 3,
   "metadata": {},
   "outputs": [
    {
     "name": "stdout",
     "output_type": "stream",
     "text": [
      "None\n",
      "{'id': 101, 'name': 'ABC', 'sal': 45000, 'age': None}\n"
     ]
    }
   ],
   "source": [
    "print(d.setdefault('age'))\n",
    "print(d)"
   ]
  },
  {
   "cell_type": "code",
   "execution_count": 2,
   "metadata": {},
   "outputs": [
    {
     "name": "stdout",
     "output_type": "stream",
     "text": [
      "{'id': 101, 'name': 'ABC', 'sal': 45000}\n",
      "{'id': 101, 'name': 'ABC', 'sal': 45000, 'age': 35}\n",
      "{'id': 101, 'name': 'ABC', 'sal': 45000, 'age': 45}\n"
     ]
    }
   ],
   "source": [
    "d = {\"id\":101,\"name\":\"ABC\",\"sal\":45000}\n",
    "print(d)\n",
    "d['age'] = 35\n",
    "print(d)\n",
    "\n",
    "d['age'] = 45\n",
    "print(d)"
   ]
  },
  {
   "cell_type": "code",
   "execution_count": 5,
   "metadata": {},
   "outputs": [
    {
     "name": "stdout",
     "output_type": "stream",
     "text": [
      "{16: 256, 15: 225, 14: 196, 13: 169, 12: 144, 11: 121, 10: 100, 9: 81, 8: 64, 7: 49, 6: 36, 5: 25, 4: 16, 3: 9, 2: 4, 1: 1}\n"
     ]
    }
   ],
   "source": [
    "d = {} \n",
    "for key in range(16,0,-1):\n",
    "    d.setdefault(key,key*key) \n",
    "\n",
    "print(d)"
   ]
  },
  {
   "cell_type": "code",
   "execution_count": 6,
   "metadata": {},
   "outputs": [
    {
     "name": "stdout",
     "output_type": "stream",
     "text": [
      "97\n"
     ]
    }
   ],
   "source": [
    "print(ord('a'))"
   ]
  },
  {
   "cell_type": "code",
   "execution_count": 7,
   "metadata": {},
   "outputs": [
    {
     "name": "stdout",
     "output_type": "stream",
     "text": [
      "a\n"
     ]
    }
   ],
   "source": [
    "print(chr(97))"
   ]
  },
  {
   "cell_type": "code",
   "execution_count": 21,
   "metadata": {},
   "outputs": [
    {
     "name": "stdout",
     "output_type": "stream",
     "text": [
      "{'a': 97, 'b': 98, 'c': 99, 'd': 100, 'e': 101, 'f': 102, 'g': 103, 'h': 104}\n",
      "a\n",
      "b\n",
      "c\n",
      "d\n",
      "e\n",
      "f\n",
      "g\n",
      "h\n",
      "97\n",
      "98\n",
      "99\n",
      "100\n",
      "101\n",
      "102\n",
      "103\n",
      "104\n",
      "a 97\n",
      "b 98\n",
      "c 99\n",
      "d 100\n",
      "e 101\n",
      "f 102\n",
      "g 103\n",
      "h 104\n",
      "dict_keys(['a', 'b', 'c', 'd', 'e', 'f', 'g', 'h'])\n",
      "dict_values([97, 98, 99, 100, 101, 102, 103, 104])\n",
      "dict_items([('a', 97), ('b', 98), ('c', 99), ('d', 100), ('e', 101), ('f', 102), ('g', 103), ('h', 104)])\n"
     ]
    }
   ],
   "source": [
    "d = {}\n",
    "for value in range(97,105):\n",
    "    d[chr(value)] = value\n",
    "print(d)\n",
    "\n",
    "for x in d.keys():\n",
    "    print(x)\n",
    "\n",
    "for x in d.values():\n",
    "    print(x)\n",
    "    \n",
    "for key,value in d.items():\n",
    "    print(key,value) \n",
    "    \n",
    "print(d.keys())\n",
    "print(d.values())\n",
    "print(d.items())"
   ]
  },
  {
   "cell_type": "code",
   "execution_count": 22,
   "metadata": {},
   "outputs": [
    {
     "name": "stdout",
     "output_type": "stream",
     "text": [
      "chem\n",
      "eng\n"
     ]
    }
   ],
   "source": [
    "s1 = {'maths':80,'chem':35,\"physics\":65,\"eng\":39}\n",
    "passmarks = 40\n",
    "\n",
    "for k,v in s1.items():\n",
    "    if v < 40:\n",
    "        print(k)\n"
   ]
  },
  {
   "cell_type": "code",
   "execution_count": 31,
   "metadata": {},
   "outputs": [
    {
     "name": "stdout",
     "output_type": "stream",
     "text": [
      "{'ABC': 4.44, 'PQR': 4.0, 'XYZ': 3.4, 'RST': 2.0}\n"
     ]
    }
   ],
   "source": [
    "d1 = {\"ABC\":\"4.2,5,5,4,4\",\"PQR\":\"4,5,5,3,3\",\"XYZ\":\"2,5,4,2,4\",\"RST\":\"2,2,2,2,2\"}\n",
    "d2 = {}\n",
    "\n",
    "for key,value in d1.items():\n",
    "    r = value.split(\",\")\n",
    "    sum = 0\n",
    "    for v in r:\n",
    "        sum = sum + float(v)\n",
    "\n",
    "    d2[key] = round(sum/len(r),2)\n",
    "\n",
    "print(d2)\n"
   ]
  },
  {
   "cell_type": "code",
   "execution_count": 33,
   "metadata": {},
   "outputs": [
    {
     "name": "stdout",
     "output_type": "stream",
     "text": [
      "(10, 100)\n",
      "(20, 200)\n",
      "(30, 300)\n",
      "(40, 400)\n",
      "(50, 500)\n"
     ]
    }
   ],
   "source": [
    "l1 = [10,20,30,40,50]\n",
    "l2 = [100,200,300,400,500,600,700]\n",
    "\n",
    "for x in zip(l1,l2):\n",
    "    print(x)"
   ]
  },
  {
   "cell_type": "code",
   "execution_count": 43,
   "metadata": {},
   "outputs": [
    {
     "name": "stdout",
     "output_type": "stream",
     "text": [
      "{(1, 10): 3, (11, 20): 3, (21, 30): 0, (31, 40): 2, (41, 50): 1, (51, 60): 0, (61, 70): 0, (71, 80): 0, (81, 90): 0, (91, 100): 0}\n"
     ]
    }
   ],
   "source": [
    "# d = {(1,10):0,(11,20):0,(21,30):0.......(91,100):0}\n",
    "d ={}\n",
    "for x in zip(range(1,92,10),range(10,101,10)):\n",
    "    d.setdefault(x,0)\n",
    "# print(d)\n",
    "\n",
    "l = [10,20,45,35,2,5,14,15,36]\n",
    "\n",
    "for value in l:\n",
    "    for key,value1 in d.items():\n",
    "        if value > key[0] and value <= key[1]:\n",
    "            d[key] = value1 + 1 \n",
    "print(d)"
   ]
  },
  {
   "cell_type": "markdown",
   "metadata": {},
   "source": [
    "### Delete :\n",
    "> - pop\n",
    "> - popitem\n",
    "> - clear \n",
    "> - del"
   ]
  },
  {
   "cell_type": "code",
   "execution_count": 48,
   "metadata": {},
   "outputs": [
    {
     "name": "stdout",
     "output_type": "stream",
     "text": [
      "{}\n"
     ]
    },
    {
     "ename": "NameError",
     "evalue": "name 'd1' is not defined",
     "output_type": "error",
     "traceback": [
      "\u001b[1;31m---------------------------------------------------------------------------\u001b[0m",
      "\u001b[1;31mNameError\u001b[0m                                 Traceback (most recent call last)",
      "\u001b[1;32m<ipython-input-48-6ab03b457d1f>\u001b[0m in \u001b[0;36m<module>\u001b[1;34m()\u001b[0m\n\u001b[0;32m     10\u001b[0m \u001b[1;33m\u001b[0m\u001b[0m\n\u001b[0;32m     11\u001b[0m \u001b[1;32mdel\u001b[0m \u001b[0md1\u001b[0m\u001b[1;33m\u001b[0m\u001b[0m\n\u001b[1;32m---> 12\u001b[1;33m \u001b[0mprint\u001b[0m\u001b[1;33m(\u001b[0m\u001b[0md1\u001b[0m\u001b[1;33m)\u001b[0m\u001b[1;33m\u001b[0m\u001b[0m\n\u001b[0m",
      "\u001b[1;31mNameError\u001b[0m: name 'd1' is not defined"
     ]
    }
   ],
   "source": [
    "d1 = {\"ABC\":\"4.2,5,5,4,4\",\"PQR\":\"4,5,5,3,3\",\"XYZ\":\"2,5,4,2,4\",\"RST\":\"2,2,2,2,2\"}\n",
    "r = d1.pop(\"ABC\")\n",
    "print(d1,r)\n",
    "\n",
    "r = d1.popitem()\n",
    "print(d1,r)\n",
    "\n",
    "d1.clear()\n",
    "print(d1)\n",
    "\n",
    "del d1\n",
    "print(d1)"
   ]
  },
  {
   "cell_type": "code",
   "execution_count": 53,
   "metadata": {},
   "outputs": [
    {
     "name": "stdout",
     "output_type": "stream",
     "text": [
      "{1: 1, 2: 4, 3: 9, 4: 16, 5: 25}\n",
      "{100: None, 200: None, 300: None, 400: None, 500: None}\n"
     ]
    }
   ],
   "source": [
    "l1 = [1,2,3,4,5]\n",
    "l2 = [1,4,9,16,25]\n",
    "\n",
    "d = dict(zip(l1,l2))\n",
    "print(d)\n",
    "\n",
    "l = [100,200,300,400,500]\n",
    "d1 = dict.fromkeys(l)\n",
    "print(d1)"
   ]
  },
  {
   "cell_type": "code",
   "execution_count": 57,
   "metadata": {},
   "outputs": [
    {
     "name": "stdout",
     "output_type": "stream",
     "text": [
      "{1: 1, 2: 4, 3: 9, 4: 16, 5: 25, 6: 36}\n"
     ]
    }
   ],
   "source": [
    "d1 = {1:1,2:4,3:9}\n",
    "d2 = {4:16,5:25,6:36}\n",
    "\n",
    "d1.update(d2)\n",
    "print(d1)"
   ]
  },
  {
   "cell_type": "code",
   "execution_count": 58,
   "metadata": {},
   "outputs": [
    {
     "name": "stdout",
     "output_type": "stream",
     "text": [
      "{40, 10, 80, 50, 20, 60, 30}\n"
     ]
    }
   ],
   "source": [
    "s ={10,20,30,40,50,60,80}\n",
    "print(s)"
   ]
  },
  {
   "cell_type": "markdown",
   "metadata": {},
   "source": [
    "### Set \n",
    "> - Mutable => add,update and delete \n",
    "> - Unordered => no indexing and slicing \n",
    "> - Internally sets are implementated as Dict with None value\n",
    "> - All elements in set should be unique\n",
    "> - Datatype of all elements shold be immutable"
   ]
  },
  {
   "cell_type": "code",
   "execution_count": 61,
   "metadata": {},
   "outputs": [
    {
     "name": "stdout",
     "output_type": "stream",
     "text": [
      "<class 'set'>\n",
      "<class 'set'>\n"
     ]
    }
   ],
   "source": [
    "s = {10,20,30,40,50}\n",
    "print(type(s))\n",
    "\n",
    "s1 = set()\n",
    "print(type(s1))"
   ]
  },
  {
   "cell_type": "markdown",
   "metadata": {},
   "source": [
    "A = {10,20,30,40,50}\n",
    "B = {40,50,60,70,80,90}\n",
    "\n",
    "A union B = {10,20,30,40,50,60,70,80,90}\n",
    "A intersection B = {40,50}\n",
    "\n",
    "A difference B = {10,20,30}\n",
    "B difference A = {60,70,80,90}\n",
    "\n",
    "A symmetric difference B = {10,20,30,60,70,80,90}\n",
    "\n",
    "C = {10,20}\n",
    "\n",
    "C is subset A\n",
    "A is superset C\n",
    "\n"
   ]
  },
  {
   "cell_type": "code",
   "execution_count": 76,
   "metadata": {},
   "outputs": [
    {
     "name": "stdout",
     "output_type": "stream",
     "text": [
      "True\n",
      "True\n"
     ]
    }
   ],
   "source": [
    "s1 = {10,20,30,40,50,60}\n",
    "s2 = {40,50,60,70,80,90}\n",
    "\n",
    "# s3 = s1.union(s2)\n",
    "# print(s3)\n",
    "\n",
    "# s1.update(s2)\n",
    "# print(s1)\n",
    "\n",
    "# s3 = s1.intersection(s2)\n",
    "# print(s3)\n",
    "\n",
    "# s1.intersection_update(s2)\n",
    "# print(s1)\n",
    "\n",
    "# s3 = s1.difference(s2)\n",
    "# print(s3)\n",
    "\n",
    "\n",
    "# s3 = s2.difference(s1)\n",
    "# print(s3)\n",
    "\n",
    "# s1.difference_update(s2)\n",
    "# print(s1)\n",
    "\n",
    "# s3 = s1.symmetric_difference(s2)\n",
    "# print(s3)\n",
    "\n",
    "# s1.symmetric_difference_update(s2)\n",
    "# print(s1)\n",
    "\n",
    "# s3 = {10,20}\n",
    "\n",
    "# print(s3.issubset(s1))\n",
    "# print(s1.issuperset(s3))\n"
   ]
  },
  {
   "cell_type": "code",
   "execution_count": 84,
   "metadata": {},
   "outputs": [
    {
     "name": "stdout",
     "output_type": "stream",
     "text": [
      "[(1, 1), (2, 4), (5, 25)]\n"
     ]
    }
   ],
   "source": [
    "l1 = [10,20,30,40,10,20,30,50,55,60]\n",
    "l2 = [25,30,45,10,20,30,50]\n",
    "\n",
    "s1 = set(l1)\n",
    "s2 = set(l2)\n",
    "\n",
    "s3 = s1.union(s2)\n",
    "print(s3)\n",
    "\n",
    "l3 = sorted(s3)\n",
    "print(l3)\n",
    "\n",
    "d = {5:25,2:4,1:1}\n",
    "\n",
    "l = sorted(d.items())\n",
    "print(l)\n",
    "\n",
    "\n"
   ]
  },
  {
   "cell_type": "markdown",
   "metadata": {},
   "source": [
    "### Delete\n",
    "> - pop()\n",
    "> - remove \n",
    "> - discard \n",
    "> - clear \n",
    "> - del"
   ]
  },
  {
   "cell_type": "code",
   "execution_count": 93,
   "metadata": {},
   "outputs": [
    {
     "name": "stdout",
     "output_type": "stream",
     "text": [
      "{10, 50, 20, 30} 40\n",
      "{10, 50, 30}\n",
      "{10, 50, 30}\n",
      "{10}\n"
     ]
    },
    {
     "ename": "NameError",
     "evalue": "name 's' is not defined",
     "output_type": "error",
     "traceback": [
      "\u001b[1;31m---------------------------------------------------------------------------\u001b[0m",
      "\u001b[1;31mNameError\u001b[0m                                 Traceback (most recent call last)",
      "\u001b[1;32m<ipython-input-93-fbaeaca19f99>\u001b[0m in \u001b[0;36m<module>\u001b[1;34m()\u001b[0m\n\u001b[0;32m     16\u001b[0m \u001b[1;33m\u001b[0m\u001b[0m\n\u001b[0;32m     17\u001b[0m \u001b[1;32mdel\u001b[0m\u001b[1;33m(\u001b[0m\u001b[0ms\u001b[0m\u001b[1;33m)\u001b[0m\u001b[1;33m\u001b[0m\u001b[0m\n\u001b[1;32m---> 18\u001b[1;33m \u001b[0mprint\u001b[0m\u001b[1;33m(\u001b[0m\u001b[0ms\u001b[0m\u001b[1;33m)\u001b[0m\u001b[1;33m\u001b[0m\u001b[0m\n\u001b[0m",
      "\u001b[1;31mNameError\u001b[0m: name 's' is not defined"
     ]
    }
   ],
   "source": [
    "s = {10,20,30,40,50}\n",
    "\n",
    "r = s.pop()\n",
    "print(s,r)\n",
    "\n",
    "s.remove(20)\n",
    "print(s)\n",
    "\n",
    "s.discard(100)\n",
    "print(s)\n",
    "\n",
    "s.clear()\n",
    "s.add(10)\n",
    "s.add(10)\n",
    "print(s)\n",
    "\n",
    "del(s)\n",
    "print(s)"
   ]
  },
  {
   "cell_type": "code",
   "execution_count": 94,
   "metadata": {},
   "outputs": [
    {
     "name": "stdout",
     "output_type": "stream",
     "text": [
      "{10, 20, 30}\n"
     ]
    }
   ],
   "source": [
    "s1 = {10,10,10,20,30,20,20,20}\n",
    "print(s1)"
   ]
  },
  {
   "cell_type": "code",
   "execution_count": null,
   "metadata": {},
   "outputs": [],
   "source": [
    "math \n",
    "random \n",
    "\n",
    "userdefined functions "
   ]
  }
 ],
 "metadata": {
  "kernelspec": {
   "display_name": "Python 3",
   "language": "python",
   "name": "python3"
  },
  "language_info": {
   "codemirror_mode": {
    "name": "ipython",
    "version": 3
   },
   "file_extension": ".py",
   "mimetype": "text/x-python",
   "name": "python",
   "nbconvert_exporter": "python",
   "pygments_lexer": "ipython3",
   "version": "3.6.5"
  }
 },
 "nbformat": 4,
 "nbformat_minor": 2
}
