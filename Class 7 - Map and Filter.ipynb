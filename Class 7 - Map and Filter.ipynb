{
 "cells": [
  {
   "cell_type": "code",
   "execution_count": 10,
   "metadata": {},
   "outputs": [
    {
     "name": "stdout",
     "output_type": "stream",
     "text": [
      "[1000, 8000, 27000, 64000, 125000, 216000, 343000]\n"
     ]
    }
   ],
   "source": [
    "def sqr(num1):\n",
    "#     print(num1)\n",
    "    return num1 ** 3\n",
    "\n",
    "l = [10,20,30,40,50,60,70]\n",
    "\n",
    "\n",
    "m = list(map(sqr,l))\n",
    "print(m)\n",
    "\n",
    "# for value in m:\n",
    "#     print(value)\n",
    "\n"
   ]
  },
  {
   "cell_type": "code",
   "execution_count": 12,
   "metadata": {},
   "outputs": [
    {
     "name": "stdout",
     "output_type": "stream",
     "text": [
      "10 1 100\n",
      "20 2 200\n",
      "30 3 300\n",
      "40 4 400\n",
      "50 5 500\n",
      "[111, 222, 333, 444, 555]\n"
     ]
    }
   ],
   "source": [
    "def add(num1,num2,num3):\n",
    "    print(num1,num2,num3)\n",
    "    return num1+num2+num3\n",
    "\n",
    "\n",
    "l1 = [10,20,30,40,50]\n",
    "l2 = [1,2,3,4,5]\n",
    "l3 = [100,200,300,400,500]\n",
    "\n",
    "\n",
    "m = list(map(add,l1,l2,l3))\n",
    "print(m)"
   ]
  },
  {
   "cell_type": "code",
   "execution_count": 17,
   "metadata": {},
   "outputs": [
    {
     "name": "stdout",
     "output_type": "stream",
     "text": [
      "[10, 15, 20, 30, 35, 40, 50]\n"
     ]
    }
   ],
   "source": [
    "def even(num1):\n",
    "    if num1 % 2 ==0:\n",
    "        return True\n",
    "    else:\n",
    "        return False\n",
    "\n",
    "l = [10,15,20,30,35,40,50]\n",
    "f = list(filter(even,l))\n",
    "print(f)"
   ]
  },
  {
   "cell_type": "code",
   "execution_count": 22,
   "metadata": {},
   "outputs": [
    {
     "name": "stdout",
     "output_type": "stream",
     "text": [
      "[6, 28]\n"
     ]
    }
   ],
   "source": [
    "num1 = 6 \n",
    "# 1 2 3 4 5 \n",
    "# 1 + 2 + 3 = 6 =>Perfect no \n",
    "\n",
    "def perfect(num1):\n",
    "    sum = 0\n",
    "    for value in range(1,num1):\n",
    "        if num1 % value == 0:\n",
    "            sum = sum + value\n",
    "    if sum == num1:\n",
    "        return True\n",
    "    else:\n",
    "        return False\n",
    "    \n",
    "f = list(filter(perfect,range(1,101)))\n",
    "print(f)\n"
   ]
  },
  {
   "cell_type": "code",
   "execution_count": 21,
   "metadata": {},
   "outputs": [
    {
     "name": "stdout",
     "output_type": "stream",
     "text": [
      "10\n",
      "11\n",
      "12\n",
      "13\n",
      "14\n",
      "15\n",
      "16\n",
      "17\n",
      "18\n",
      "19\n",
      "20\n",
      "21\n",
      "22\n",
      "23\n",
      "24\n",
      "25\n"
     ]
    }
   ],
   "source": [
    "\n",
    "for value in range(10,26):\n",
    "    print(value)\n"
   ]
  },
  {
   "cell_type": "code",
   "execution_count": 23,
   "metadata": {},
   "outputs": [
    {
     "name": "stdout",
     "output_type": "stream",
     "text": [
      "[10000, 40000, 90000, 160000, 250000, 360000]\n"
     ]
    }
   ],
   "source": [
    "l = [100,200,300,400,500,600]\n",
    "\n",
    "m =list(map(lambda num1:num1 * num1,l))\n",
    "print(m)"
   ]
  },
  {
   "cell_type": "code",
   "execution_count": 24,
   "metadata": {},
   "outputs": [
    {
     "name": "stdout",
     "output_type": "stream",
     "text": [
      "[111, 222, 333, 444, 555]\n"
     ]
    }
   ],
   "source": [
    "l1 = [1,2,3,4,5]\n",
    "l2 = [10,20,30,40,50]\n",
    "l3 = [100,200,300,400,500]\n",
    "\n",
    "m = list(map(lambda num1,num2,num3:num1+num2+num3,l1,l2,l3))\n",
    "print(m)"
   ]
  },
  {
   "cell_type": "code",
   "execution_count": 27,
   "metadata": {},
   "outputs": [
    {
     "name": "stdout",
     "output_type": "stream",
     "text": [
      "[10, 20, 40, 60]\n"
     ]
    }
   ],
   "source": [
    "l = [10,15,20,35,40,45,60]\n",
    "m = list(filter(lambda num1:num1%2 == 0,l))\n",
    "print(m)"
   ]
  },
  {
   "cell_type": "code",
   "execution_count": 31,
   "metadata": {},
   "outputs": [
    {
     "name": "stdout",
     "output_type": "stream",
     "text": [
      "False\n",
      "<function <lambda> at 0x000001EC914F8E18>\n"
     ]
    }
   ],
   "source": [
    "char = 'z'\n",
    "f = lambda char: char in 'aeiou'\n",
    "print(f(char))\n",
    "print(f)"
   ]
  },
  {
   "cell_type": "code",
   "execution_count": 2,
   "metadata": {},
   "outputs": [
    {
     "name": "stdout",
     "output_type": "stream",
     "text": [
      "19.19682794399722\n"
     ]
    }
   ],
   "source": [
    "import timeit\n",
    "\n",
    "t = timeit.timeit(stmt =\"\"\"\n",
    "l = []\n",
    "for value in range(1,100000000):\n",
    "    l.append(value*value)\n",
    "\"\"\",number = 1)\n",
    "print(t)\n",
    "\n"
   ]
  },
  {
   "cell_type": "code",
   "execution_count": 3,
   "metadata": {},
   "outputs": [
    {
     "name": "stdout",
     "output_type": "stream",
     "text": [
      "11.585943045717471\n"
     ]
    }
   ],
   "source": [
    "import timeit\n",
    "t = timeit.timeit(stmt = \"\"\" \n",
    "l2 = [value * value for value in range(1,100000000)]\n",
    "\"\"\",number = 1)\n",
    "print(t)"
   ]
  },
  {
   "cell_type": "code",
   "execution_count": 12,
   "metadata": {},
   "outputs": [
    {
     "name": "stdout",
     "output_type": "stream",
     "text": [
      "3.7758076700811216e-06\n"
     ]
    }
   ],
   "source": [
    "import timeit\n",
    "t = timeit.timeit(stmt = \"\"\"\n",
    "m = map(lambda num1:num1*num1,range(1,100000000))\n",
    "\"\"\",number=1)\n",
    "print(t)\n",
    "            "
   ]
  },
  {
   "cell_type": "code",
   "execution_count": null,
   "metadata": {},
   "outputs": [],
   "source": [
    "JSON : data \n",
    "{\n",
    "    \"username\":\"ABC\",\n",
    "    \"passwprd\" : \"abc@123\"\n",
    "    \n",
    "}    \n"
   ]
  },
  {
   "cell_type": "markdown",
   "metadata": {},
   "source": [
    "Json:                         Python\n",
    "\" \" str                       '' \"\" \"\"\" \"\"\"\n",
    "10 10.25555                   int float \n",
    "[10,20,\"Python\"] array        list \n",
    "                              tuple\n",
    "object                        dict \n",
    "                              set "
   ]
  },
  {
   "cell_type": "code",
   "execution_count": 14,
   "metadata": {},
   "outputs": [
    {
     "name": "stdout",
     "output_type": "stream",
     "text": [
      "200\n"
     ]
    }
   ],
   "source": [
    "l = [10,20,30,[100,200,30]]\n",
    "print(l[3][1])"
   ]
  },
  {
   "cell_type": "markdown",
   "metadata": {},
   "source": [
    "### XML and Json Parsing "
   ]
  },
  {
   "cell_type": "code",
   "execution_count": 35,
   "metadata": {},
   "outputs": [
    {
     "name": "stdout",
     "output_type": "stream",
     "text": [
      "example glossary\n"
     ]
    }
   ],
   "source": [
    "import json\n",
    "\n",
    "fp = open(\"test.json\",\"r\")\n",
    "json_content = fp.read()\n",
    "fp.close()\n",
    "dict_content = json.loads(json_content)\n",
    "# print(dict_content)\n",
    "\n",
    "print(dict_content['glossary']['title'])\n",
    "dict_content['glossary']['title'] = \"This is the new title using python\"\n",
    "# print(dict_content)\n",
    "\n",
    "# print(dict_content['glossary']['GlossDiv']['GlossList']['GlossEntry']['ID'])\n",
    "dict_content['glossary']['GlossDiv']['GlossList']['GlossEntry']['ID']=('SGML','HTML')\n",
    "\n",
    "# print(dict_content)\n",
    "\n",
    "new_json = json.dumps(dict_content,indent=4)\n",
    "# print(type(new_json))\n",
    "\n",
    "fp = open(\"test2.json\",\"w\")\n",
    "fp.write(new_json)\n",
    "fp.close()\n",
    "\n"
   ]
  },
  {
   "cell_type": "code",
   "execution_count": null,
   "metadata": {},
   "outputs": [],
   "source": [
    "<note>\n",
    "    <to>ABC</to>\n",
    "    <from>PQR</from>\n",
    "    <body>Session at 9 </body>\n",
    "</note>"
   ]
  },
  {
   "cell_type": "code",
   "execution_count": 45,
   "metadata": {},
   "outputs": [
    {
     "name": "stdout",
     "output_type": "stream",
     "text": [
      "<?xml version=\"1.0\" encoding=\"utf-8\"?>\n",
      "<glossary><title>New xml title</title><GlossDiv><title>S</title><GlossList><GlossEntry ID=\"HTML\" SortAs=\"SGML\"><GlossTerm>Standard Generalized Markup Language</GlossTerm><Acronym>SGML</Acronym><Abbrev>ISO 8879:1986</Abbrev><GlossDef><para>A meta-markup language, used to create markup\n",
      "languages such as DocBook.</para><GlossSeeAlso OtherTerm=\"GML\"></GlossSeeAlso><GlossSeeAlso OtherTerm=\"XML\"></GlossSeeAlso></GlossDef><GlossSee OtherTerm=\"markup\"></GlossSee></GlossEntry></GlossList></GlossDiv></glossary>\n"
     ]
    }
   ],
   "source": [
    "import xmltodict\n",
    "fp = open(\"test1.xml\",\"r\")\n",
    "xml_content = fp.read()\n",
    "fp.close()\n",
    "\n",
    "dict_content = xmltodict.parse(xml_content)\n",
    "# print(dict_content['glossary']['title'])\n",
    "dict_content['glossary']['title'] = \"New xml title\"\n",
    "# print(dict_content['glossary']['GlossDiv']['GlossList']['GlossEntry']['@ID'])\n",
    "dict_content['glossary']['GlossDiv']['GlossList']['GlossEntry']['@ID'] = \"HTML\"\n",
    "# print(dict_content)\n",
    "\n",
    "new_content = xmltodict.unparse(dict_content)\n",
    "print(new_content)\n",
    "\n",
    "fp = open(\"text2.xml\",\"w\")\n",
    "fp.write(new_content)\n",
    "fp.close()"
   ]
  },
  {
   "cell_type": "code",
   "execution_count": null,
   "metadata": {},
   "outputs": [],
   "source": [
    "JSON :\n",
    "    \n",
    "    Loads : convert json content to dict\n",
    "    Dumps : convert dict to json content \n",
    "        \n",
    "XMLto dict \n",
    "    parse : xml to dict\n",
    "    unparse : dict to xml "
   ]
  }
 ],
 "metadata": {
  "kernelspec": {
   "display_name": "Python 3",
   "language": "python",
   "name": "python3"
  },
  "language_info": {
   "codemirror_mode": {
    "name": "ipython",
    "version": 3
   },
   "file_extension": ".py",
   "mimetype": "text/x-python",
   "name": "python",
   "nbconvert_exporter": "python",
   "pygments_lexer": "ipython3",
   "version": "3.6.5"
  }
 },
 "nbformat": 4,
 "nbformat_minor": 2
}
