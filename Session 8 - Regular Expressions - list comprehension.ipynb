{
 "cells": [
  {
   "cell_type": "code",
   "execution_count": 1,
   "metadata": {},
   "outputs": [
    {
     "name": "stdout",
     "output_type": "stream",
     "text": [
      "['ab', 'ab', 'ab']\n"
     ]
    }
   ],
   "source": [
    "import re\n",
    "s = \"ababacdefdrasbab\"\n",
    "r = re.compile('ab')\n",
    "l = re.findall(r,s)\n",
    "print(l)"
   ]
  },
  {
   "cell_type": "code",
   "execution_count": null,
   "metadata": {},
   "outputs": [],
   "source": [
    ". => match with any character \n",
    "[a-z] => char class\n",
    "[A-Z]\n",
    "[a-zA-Z]\n",
    "[0-9]=> digits \n",
    "+ => atleast one occurance or more \n",
    "* => zero or more occurance\n",
    "^ => to match start of the string \n",
    "$ => ro match end of the string \n",
    "[a-z]{5}\n",
    "? => optional"
   ]
  },
  {
   "cell_type": "code",
   "execution_count": 21,
   "metadata": {},
   "outputs": [
    {
     "name": "stdout",
     "output_type": "stream",
     "text": [
      "['abc1234']\n"
     ]
    }
   ],
   "source": [
    "import re\n",
    "s = \"abc1234\"\n",
    "r = re.compile('^[a-z]{2,4}[0-9]+$')\n",
    "l = re.findall(r,s)\n",
    "print(l)"
   ]
  },
  {
   "cell_type": "code",
   "execution_count": 29,
   "metadata": {},
   "outputs": [
    {
     "name": "stdout",
     "output_type": "stream",
     "text": [
      "['ABCDE1234A']\n"
     ]
    }
   ],
   "source": [
    "s = \"ABCDE1234A\"\n",
    "r = re.compile(\"^[A-Z]{5}[0-9]{4}[A-Z]$\")\n",
    "l = re.findall(r,s)\n",
    "print(l)"
   ]
  },
  {
   "cell_type": "code",
   "execution_count": 75,
   "metadata": {},
   "outputs": [
    {
     "name": "stdout",
     "output_type": "stream",
     "text": [
      "9123456789\n"
     ]
    }
   ],
   "source": [
    "s = \"(+91)9123456789\"\n",
    "r = re.compile(r\"^(?:\\(\\+91\\))?([6-9][0-9]{9})$\")\n",
    "# l = re.findall(r,s)\n",
    "# print(l)\n",
    "\n",
    "m = re.search(r,s)\n",
    "if m:\n",
    "    print(m.group(1))\n",
    "else:\n",
    "    print(\"Invalid number\")"
   ]
  },
  {
   "cell_type": "code",
   "execution_count": 69,
   "metadata": {},
   "outputs": [
    {
     "name": "stdout",
     "output_type": "stream",
     "text": [
      "15\n"
     ]
    }
   ],
   "source": [
    "s =\"32-15-2018\"\n",
    "r = re.compile(\"^(?P<day>[0-9]{2})-(?P<month>[0-9]{2})-(?P<year>[0-9]{4})$\")\n",
    "l = re.search(r,s)\n",
    "print(l.group(2))\n"
   ]
  },
  {
   "cell_type": "code",
   "execution_count": 47,
   "metadata": {},
   "outputs": [
    {
     "name": "stdout",
     "output_type": "stream",
     "text": [
      "['http']\n"
     ]
    }
   ],
   "source": [
    "s = \"http\"\n",
    "r = re.compile(\"https?\")\n",
    "l = re.findall(r,s)\n",
    "print(l)"
   ]
  },
  {
   "cell_type": "code",
   "execution_count": 79,
   "metadata": {},
   "outputs": [
    {
     "name": "stdout",
     "output_type": "stream",
     "text": [
      "The code link : <a href=http://www.zekelabs.com/code>http://www.zekelabs.com/code</a> <a href=https://www.github.com>https://www.github.com</a>\n"
     ]
    }
   ],
   "source": [
    "s = \"The code link : http://www.zekelabs.com/code https://www.github.com\"\n",
    "r = re.compile(r\"https?://www\\.[a-z0-9]+\\.com/?[a-z]*\")\n",
    "l = re.findall(r,s)\n",
    "\n",
    "for value in l:\n",
    "    s= s.replace(value,\"<a href={}>{}</a>\".format(value,value))\n",
    "print(s)"
   ]
  },
  {
   "cell_type": "code",
   "execution_count": null,
   "metadata": {},
   "outputs": [],
   "source": [
    "- email validation \n",
    "- date validation \n",
    "- ip address \n",
    "- file name email number  name and email "
   ]
  },
  {
   "cell_type": "markdown",
   "metadata": {},
   "source": [
    "### List Comprehension "
   ]
  },
  {
   "cell_type": "code",
   "execution_count": 80,
   "metadata": {},
   "outputs": [
    {
     "name": "stdout",
     "output_type": "stream",
     "text": [
      "[100, 400, 900, 1600, 2500]\n"
     ]
    }
   ],
   "source": [
    "l = [10,20,30,40,50]\n",
    "l2 = []\n",
    "\n",
    "for value in l:\n",
    "    l2.append(value * value)\n",
    "print(l2)"
   ]
  },
  {
   "cell_type": "code",
   "execution_count": 81,
   "metadata": {},
   "outputs": [
    {
     "name": "stdout",
     "output_type": "stream",
     "text": [
      "[100, 400, 900, 1600, 2500]\n"
     ]
    }
   ],
   "source": [
    "l = [10,20,30,40,50]\n",
    "l2 = [value*value for value in l]\n",
    "print(l2)"
   ]
  },
  {
   "cell_type": "code",
   "execution_count": 82,
   "metadata": {},
   "outputs": [
    {
     "name": "stdout",
     "output_type": "stream",
     "text": [
      "[3, 4, 4, 4]\n"
     ]
    }
   ],
   "source": [
    "l = [\"abc\",'aeee','rrrr','wwww']\n",
    "l2 = [len(value) for value in l]\n",
    "print(l2)"
   ]
  },
  {
   "cell_type": "code",
   "execution_count": 90,
   "metadata": {},
   "outputs": [
    {
     "name": "stdout",
     "output_type": "stream",
     "text": [
      "[10, -1, 20, 24, -1, -1, -1, 64]\n"
     ]
    }
   ],
   "source": [
    "l = [10,15,20,24,25,63,15,64]\n",
    "l2 = [value if value%2 == 0 else -1 for value in l ]\n",
    "print(l2)"
   ]
  },
  {
   "cell_type": "code",
   "execution_count": 87,
   "metadata": {},
   "outputs": [
    {
     "name": "stdout",
     "output_type": "stream",
     "text": [
      "[10, 'Odd', 20, 24, 'Odd', 'Odd', 'Odd', 64]\n"
     ]
    }
   ],
   "source": [
    "l2 = [\"Even\" if value%2 == 0 else \"Odd\" for value in l]\n",
    "print(l2)"
   ]
  },
  {
   "cell_type": "code",
   "execution_count": 91,
   "metadata": {},
   "outputs": [
    {
     "name": "stdout",
     "output_type": "stream",
     "text": [
      "[(100, 1), (100, 2), (100, 3), (101, 1), (101, 2), (101, 3), (102, 1), (102, 2), (102, 3)]\n"
     ]
    }
   ],
   "source": [
    "l2 = [(val1,val2) for val1 in range(100,103) for val2 in range(1,4)]\n",
    "print(l2)"
   ]
  },
  {
   "cell_type": "code",
   "execution_count": 92,
   "metadata": {},
   "outputs": [
    {
     "name": "stdout",
     "output_type": "stream",
     "text": [
      "[1, 2, 3, 4, 5, 6, 7, 8, 9]\n"
     ]
    }
   ],
   "source": [
    "l = [[1,2,3],[4,5,6],[7,8,9]]\n",
    "# [1,2,3,4,5,6,7,8,9]\n",
    "# [[1,4,7],[2,5,8],[3,6,9]]\n",
    "\n",
    "l2 = [val1 for value in l for val1 in value]\n",
    "print(l2)"
   ]
  },
  {
   "cell_type": "code",
   "execution_count": 98,
   "metadata": {},
   "outputs": [
    {
     "name": "stdout",
     "output_type": "stream",
     "text": [
      "[[1, 2, 3], [4, 5, 6], [7, 8, 9]]\n",
      "[[1, 4, 7], [2, 5, 8], [3, 6, 9]]\n"
     ]
    }
   ],
   "source": [
    "print(l)\n",
    "l3 = [[value[index] for value in l] for index in range(len(l[0]))]\n",
    "print(l3)"
   ]
  },
  {
   "cell_type": "code",
   "execution_count": 99,
   "metadata": {},
   "outputs": [
    {
     "name": "stdout",
     "output_type": "stream",
     "text": [
      "[12, 21, 49, 36, 34]\n"
     ]
    }
   ],
   "source": [
    "import random\n",
    "l3 = [random.randint(10,50) for value in range(5)]\n",
    "print(l3)"
   ]
  },
  {
   "cell_type": "code",
   "execution_count": null,
   "metadata": {},
   "outputs": [],
   "source": [
    "i can convert every comprehension to for loop \n",
    "but every for loop can not be converted to comprehension"
   ]
  },
  {
   "cell_type": "code",
   "execution_count": 101,
   "metadata": {},
   "outputs": [
    {
     "name": "stdout",
     "output_type": "stream",
     "text": [
      "36.00694032775595\n"
     ]
    }
   ],
   "source": [
    "import timeit\n",
    "t = timeit.timeit(stmt =\"\"\"\n",
    "l2 = []\n",
    "for value in range(1,100000000):\n",
    "    l2.append(value * value)\n",
    "\"\"\",number = 1)\n",
    "print(t)"
   ]
  },
  {
   "cell_type": "code",
   "execution_count": 102,
   "metadata": {},
   "outputs": [
    {
     "name": "stdout",
     "output_type": "stream",
     "text": [
      "18.69023921305947\n"
     ]
    }
   ],
   "source": [
    "import timeit\n",
    "t = timeit.timeit(stmt =\"\"\"\n",
    "l3 = [value * value for value in range(1,100000000)]\n",
    "\"\"\",number = 1)\n",
    "print(t)"
   ]
  },
  {
   "cell_type": "code",
   "execution_count": 103,
   "metadata": {},
   "outputs": [
    {
     "name": "stdout",
     "output_type": "stream",
     "text": [
      "{1: 1, 2: 4, 3: 9, 4: 16, 5: 25, 6: 36, 7: 49, 8: 64, 9: 81, 10: 100, 11: 121, 12: 144, 13: 169, 14: 196, 15: 225, 16: 256, 17: 289, 18: 324, 19: 361, 20: 400}\n"
     ]
    }
   ],
   "source": [
    "d = {key:key*key for key in range(1,21)}\n",
    "print(d)"
   ]
  },
  {
   "cell_type": "code",
   "execution_count": 104,
   "metadata": {},
   "outputs": [
    {
     "name": "stdout",
     "output_type": "stream",
     "text": [
      "{'a': 97, 'b': 98, 'c': 99, 'd': 100, 'e': 101, 'f': 102, 'g': 103, 'h': 104, 'i': 105, 'j': 106, 'k': 107, 'l': 108, 'm': 109, 'n': 110, 'o': 111, 'p': 112, 'q': 113, 'r': 114, 's': 115, 't': 116, 'u': 117, 'v': 118, 'w': 119, 'x': 120, 'y': 121}\n"
     ]
    }
   ],
   "source": [
    "d2 = {chr(value):value for value in range(ord('a'),ord('z'))}\n",
    "print(d2)"
   ]
  },
  {
   "cell_type": "code",
   "execution_count": 106,
   "metadata": {},
   "outputs": [
    {
     "name": "stdout",
     "output_type": "stream",
     "text": [
      "{97: 'a', 98: 'b', 99: 'c', 100: 'd', 101: 'e', 102: 'f', 103: 'g', 104: 'h', 105: 'i', 106: 'j', 107: 'k', 108: 'l', 109: 'm', 110: 'n', 111: 'o', 112: 'p', 113: 'q', 114: 'r', 115: 's', 116: 't', 117: 'u', 118: 'v', 119: 'w', 120: 'x', 121: 'y'}\n"
     ]
    }
   ],
   "source": [
    "d3 = {value:key for key,value in d2.items()}\n",
    "print(d3)"
   ]
  },
  {
   "cell_type": "code",
   "execution_count": 107,
   "metadata": {},
   "outputs": [
    {
     "name": "stdout",
     "output_type": "stream",
     "text": [
      "{(1, 10): 0, (11, 20): 0, (21, 30): 0, (31, 40): 0, (41, 50): 0, (51, 60): 0, (61, 70): 0, (71, 80): 0, (81, 90): 0, (91, 100): 0}\n"
     ]
    }
   ],
   "source": [
    "d4 = {key:0 for key in zip(range(1,92,10),range(10,101,10))}\n",
    "print(d4)"
   ]
  },
  {
   "cell_type": "code",
   "execution_count": 110,
   "metadata": {},
   "outputs": [
    {
     "name": "stdout",
     "output_type": "stream",
     "text": [
      "{0, 1}\n"
     ]
    }
   ],
   "source": [
    "l = [10,10,20,25,45,56,20]\n",
    "l2 = {value %2 for value in l}\n",
    "print(l2)"
   ]
  }
 ],
 "metadata": {
  "kernelspec": {
   "display_name": "Python 3",
   "language": "python",
   "name": "python3"
  },
  "language_info": {
   "codemirror_mode": {
    "name": "ipython",
    "version": 3
   },
   "file_extension": ".py",
   "mimetype": "text/x-python",
   "name": "python",
   "nbconvert_exporter": "python",
   "pygments_lexer": "ipython3",
   "version": "3.6.5"
  }
 },
 "nbformat": 4,
 "nbformat_minor": 2
}
