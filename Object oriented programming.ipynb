{
 "cells": [
  {
   "cell_type": "code",
   "execution_count": 26,
   "metadata": {},
   "outputs": [
    {
     "ename": "SyntaxError",
     "evalue": "invalid syntax (<ipython-input-26-c15cc0c301e6>, line 1)",
     "output_type": "error",
     "traceback": [
      "\u001b[1;36m  File \u001b[1;32m\"<ipython-input-26-c15cc0c301e6>\"\u001b[1;36m, line \u001b[1;32m1\u001b[0m\n\u001b[1;33m    Classes  methods and attributes\u001b[0m\n\u001b[1;37m                   ^\u001b[0m\n\u001b[1;31mSyntaxError\u001b[0m\u001b[1;31m:\u001b[0m invalid syntax\n"
     ]
    }
   ],
   "source": [
    "Classes  methods and attributes  \n",
    "Objects \n",
    "\n"
   ]
  },
  {
   "cell_type": "code",
   "execution_count": 27,
   "metadata": {},
   "outputs": [
    {
     "ename": "SyntaxError",
     "evalue": "invalid syntax (<ipython-input-27-15c796243854>, line 1)",
     "output_type": "error",
     "traceback": [
      "\u001b[1;36m  File \u001b[1;32m\"<ipython-input-27-15c796243854>\"\u001b[1;36m, line \u001b[1;32m1\u001b[0m\n\u001b[1;33m    Paytm :\u001b[0m\n\u001b[1;37m           ^\u001b[0m\n\u001b[1;31mSyntaxError\u001b[0m\u001b[1;31m:\u001b[0m invalid syntax\n"
     ]
    }
   ],
   "source": [
    "Paytm :\n",
    "    recharge\n",
    "    transfer money \n",
    "    shopping \n",
    "    bank \n",
    "    \n",
    "    name \n",
    "    no \n",
    "    addhar no "
   ]
  },
  {
   "cell_type": "code",
   "execution_count": null,
   "metadata": {},
   "outputs": [],
   "source": [
    "Emp :\n",
    "    id \n",
    "    name \n",
    "    email \n",
    "    contact \n",
    "    sal \n",
    "    \n",
    "    get_details \n",
    "    update_details\n",
    "    incr_sal"
   ]
  },
  {
   "cell_type": "code",
   "execution_count": 1,
   "metadata": {},
   "outputs": [],
   "source": [
    "class Emp:\n",
    "    count = 0\n",
    "    emps = []\n",
    "    \n",
    "    @classmethod\n",
    "    def incr_count(cls):\n",
    "        cls.count+=1\n",
    "     \n",
    "    @classmethod\n",
    "    def add_emp(cls,obj):\n",
    "        cls.emps.append(obj)\n",
    "        \n",
    "    @staticmethod\n",
    "    def printVal(num1,num2):\n",
    "        print(num1,num2)\n",
    "    \n",
    "    def __init__(self,id,name,email,sal):\n",
    "        self.__id = id\n",
    "        self.__name = name\n",
    "        self.__email = email\n",
    "        self.__emp_sal = sal\n",
    "        Emp.incr_count()\n",
    "        Emp.add_emp(self)\n",
    "        \n",
    "    def get_name(self):\n",
    "        return self.__name\n",
    "    \n",
    "    def set_name(self,new_name):\n",
    "        self.__name = new_name \n",
    "        \n",
    "    def set_dept(self,dept):\n",
    "        self.__dept = dept\n",
    "        \n",
    "    def get_details(self):\n",
    "        return self.__id,self.__name,self.__email,self.__emp_sal\n",
    "    \n",
    "    def incr_sal(self, per = 30):\n",
    "       \n",
    "        self.__emp_sal = self.__emp_sal + (self.__emp_sal * 30 )/ 100\n",
    "        return self.__emp_sal\n",
    "    \n",
    "    \n",
    "class Dept:\n",
    "    def __init__(self,dept_id,name):\n",
    "        self.dept_id = dept_id\n",
    "        self.name = name \n",
    "     "
   ]
  },
  {
   "cell_type": "code",
   "execution_count": 98,
   "metadata": {},
   "outputs": [
    {
     "name": "stdout",
     "output_type": "stream",
     "text": [
      "10 100\n"
     ]
    }
   ],
   "source": [
    "Emp.printVal(10,100)"
   ]
  },
  {
   "cell_type": "code",
   "execution_count": 3,
   "metadata": {},
   "outputs": [
    {
     "name": "stdout",
     "output_type": "stream",
     "text": [
      "{'_Emp__id': 101, '_Emp__name': 'ABC', '_Emp__email': 'abc@gmail.com', '_Emp__emp_sal': 75000}\n",
      "101\n"
     ]
    }
   ],
   "source": [
    "emp1 = Emp(101,'ABC','abc@gmail.com',75000)\n",
    "# Emp(emp1,101,'ABC','abc@gmail.com',75000)\n",
    "# print(emp1.get_name())\n",
    "print(emp1.__dict__)\n",
    "print(emp1._Emp__id)"
   ]
  },
  {
   "cell_type": "code",
   "execution_count": 94,
   "metadata": {},
   "outputs": [
    {
     "name": "stdout",
     "output_type": "stream",
     "text": [
      "<__main__.Emp object at 0x00000299052FC630>\n"
     ]
    }
   ],
   "source": [
    "emp2 = Emp(102,'PQR','pqr@gmail.com',65000)\n",
    "print(emp2)\n",
    "\n",
    "emp3 = Emp(103,'RST','pqr@gmail.com',55000)\n",
    "\n",
    "emp4 = Emp(104,'XYZ','pqr@gmail.com',45000)\n",
    "\n",
    "emp5 = Emp(105,'POI','pqr@gmail.com',55000)\n"
   ]
  },
  {
   "cell_type": "code",
   "execution_count": 80,
   "metadata": {},
   "outputs": [
    {
     "name": "stdout",
     "output_type": "stream",
     "text": [
      "[<__main__.Emp object at 0x00000299052E9390>, <__main__.Emp object at 0x00000299052E6F98>, <__main__.Emp object at 0x00000299052E6DD8>, <__main__.Emp object at 0x00000299052E6978>, <__main__.Emp object at 0x00000299052E9160>]\n"
     ]
    }
   ],
   "source": [
    "print(Emp.emps)"
   ]
  },
  {
   "cell_type": "code",
   "execution_count": 96,
   "metadata": {},
   "outputs": [
    {
     "name": "stdout",
     "output_type": "stream",
     "text": [
      "5\n",
      "5\n",
      "[<__main__.Emp object at 0x000002990523B3C8>, <__main__.Emp object at 0x00000299052FC630>, <__main__.Emp object at 0x000002990524C6D8>, <__main__.Emp object at 0x00000299052FCA58>, <__main__.Emp object at 0x000002990520CF28>]\n"
     ]
    }
   ],
   "source": [
    "# print(emp1.__dict__)\n",
    "# print(Emp.__dict__)\n",
    "print(Emp.count)\n",
    "print(emp1.count)\n",
    "print(Emp.emps)\n",
    "# emp1.count = 100 \n",
    "# print(emp1.__dict__)\n",
    "# print(Emp.count)\n",
    "# print(emp1.count)\n"
   ]
  },
  {
   "cell_type": "code",
   "execution_count": 32,
   "metadata": {},
   "outputs": [
    {
     "name": "stdout",
     "output_type": "stream",
     "text": [
      "101 ABC abc@gmail.com 75000\n",
      "102 PQR pqr@gmail.com 65000\n"
     ]
    }
   ],
   "source": [
    "print(emp1.id,emp1.name,emp1.email,emp1.emp_sal)\n",
    "print(emp2.id,emp2.name,emp2.email,emp2.emp_sal)"
   ]
  },
  {
   "cell_type": "code",
   "execution_count": 33,
   "metadata": {},
   "outputs": [
    {
     "name": "stdout",
     "output_type": "stream",
     "text": [
      "HR\n",
      "(101, 'ABC', 'abc@gmail.com', 75000)\n"
     ]
    }
   ],
   "source": [
    "emp1.set_dept(\"HR\")\n",
    "print(emp1.dept)\n",
    "print(emp1.get_details())\n",
    "# Emp.set_dept(emp1,\"HR\")"
   ]
  },
  {
   "cell_type": "code",
   "execution_count": 34,
   "metadata": {},
   "outputs": [
    {
     "name": "stdout",
     "output_type": "stream",
     "text": [
      "97500.0\n"
     ]
    }
   ],
   "source": [
    "print(emp1.incr_sal(40))"
   ]
  },
  {
   "cell_type": "code",
   "execution_count": 57,
   "metadata": {},
   "outputs": [
    {
     "name": "stdout",
     "output_type": "stream",
     "text": [
      "(101, 'ABC', 'abc@gmail.com', 75000)\n",
      "(102, 'PQR', 'pqr@gmail.com', 65000)\n",
      "(103, 'RST', 'pqr@gmail.com', 55000)\n",
      "(104, 'XYZ', 'pqr@gmail.com', 45000)\n",
      "(105, 'POI', 'pqr@gmail.com', 55000)\n"
     ]
    }
   ],
   "source": [
    "emps = [emp1,emp2,emp3,emp4,emp5]\n",
    "for emp in emps:\n",
    "    print(emp.get_details())"
   ]
  },
  {
   "cell_type": "code",
   "execution_count": 40,
   "metadata": {},
   "outputs": [
    {
     "name": "stdout",
     "output_type": "stream",
     "text": [
      "97500.0\n",
      "84500.0\n",
      "71500.0\n",
      "58500.0\n",
      "71500.0\n"
     ]
    }
   ],
   "source": [
    "for emp in emps:\n",
    "    print(emp.incr_sal())"
   ]
  },
  {
   "cell_type": "code",
   "execution_count": 58,
   "metadata": {},
   "outputs": [],
   "source": [
    "hr = Dept(1,\"HR\")\n",
    "admin = Dept(2,'Admin')\n",
    "Dev = Dept(3,\"Developer\")"
   ]
  },
  {
   "cell_type": "code",
   "execution_count": 59,
   "metadata": {},
   "outputs": [],
   "source": [
    "emp1.set_dept(hr)\n",
    "emp2.set_dept(admin)\n",
    "emp3.set_dept(hr)\n",
    "emp4.set_dept(Dev)\n",
    "emp5.set_dept(hr)"
   ]
  },
  {
   "cell_type": "code",
   "execution_count": 61,
   "metadata": {},
   "outputs": [
    {
     "name": "stdout",
     "output_type": "stream",
     "text": [
      "(101, 'ABC', 'abc@gmail.com', 75000)\n",
      "(103, 'RST', 'pqr@gmail.com', 55000)\n",
      "(105, 'POI', 'pqr@gmail.com', 55000)\n"
     ]
    }
   ],
   "source": [
    "\n",
    "for emp in emps:\n",
    "    if emp.dept.name == \"HR\":\n",
    "        print(emp.get_details())"
   ]
  },
  {
   "cell_type": "code",
   "execution_count": null,
   "metadata": {},
   "outputs": [],
   "source": [
    "get all emp with 'HR'"
   ]
  },
  {
   "cell_type": "code",
   "execution_count": null,
   "metadata": {},
   "outputs": [],
   "source": [
    "Author :\n",
    "    id\n",
    "    name \n",
    "    About\n",
    "    \n",
    "Book\n",
    "    id \n",
    "    name \n",
    "    title \n",
    "    description \n",
    "    author\n",
    "    \n",
    "get all the books of author say \"ABC\"     \n",
    "    "
   ]
  },
  {
   "cell_type": "code",
   "execution_count": 99,
   "metadata": {},
   "outputs": [
    {
     "name": "stdout",
     "output_type": "stream",
     "text": [
      "('QWE', 'tests desc')\n",
      "('QER', 'tests desc')\n",
      "('QTY', 'tests desc')\n"
     ]
    }
   ],
   "source": [
    "class Author:\n",
    "    def __init__(self,id,name):\n",
    "        self.id = id\n",
    "        self.name = name \n",
    "        \n",
    "class Book:\n",
    "    def __init__(self,id,title,description,author):\n",
    "        self.id = id \n",
    "        self.title = title\n",
    "        self.desc = description\n",
    "        self.author = author\n",
    "    def get_details(self):\n",
    "        return self.title,self.desc\n",
    "    \n",
    "author1 = Author(1,\"ABC\")\n",
    "author2 = Author(2,\"PQR\")\n",
    "\n",
    "\n",
    "book1 = Book(1,\"QWE\",\"tests desc\",author1)\n",
    "\n",
    "book2 = Book(2,\"QER\",\"tests desc\",author1)\n",
    "book3 = Book(3,\"QTY\",\"tests desc\",author1)\n",
    "book4 = Book(4,\"QYU\",\"tests desc\",author2)\n",
    "\n",
    "books = [book1,book2,book3,book4]\n",
    "\n",
    "for book in books:\n",
    "    if book.author.name == \"ABC\":\n",
    "        print(book.get_details())\n",
    "\n"
   ]
  },
  {
   "cell_type": "code",
   "execution_count": 100,
   "metadata": {},
   "outputs": [],
   "source": [
    "import itertools"
   ]
  },
  {
   "cell_type": "code",
   "execution_count": 103,
   "metadata": {},
   "outputs": [
    {
     "name": "stdout",
     "output_type": "stream",
     "text": [
      "10\n",
      "20\n",
      "30\n",
      "100\n",
      "200\n",
      "300\n",
      "after tee \n"
     ]
    }
   ],
   "source": [
    "l = [10,20,30]\n",
    "l2 = [100,200,300]\n",
    "i = itertools.chain(l,l2)\n",
    "\n",
    "t = itertools.tee(i)\n",
    "for value in t[0]:\n",
    "    print(value)\n",
    "print(\"after tee \")\n",
    "for value in i:\n",
    "    print(value)\n"
   ]
  },
  {
   "cell_type": "code",
   "execution_count": null,
   "metadata": {},
   "outputs": [],
   "source": [
    "User :\n",
    "    username \n",
    "    first name \n",
    "    last name \n",
    "    email \n",
    "    password \n",
    "    \n",
    "Profile:\n",
    "    cotact no \n",
    "    linkedin \n",
    "    github link "
   ]
  },
  {
   "cell_type": "code",
   "execution_count": 19,
   "metadata": {},
   "outputs": [
    {
     "name": "stdout",
     "output_type": "stream",
     "text": [
      "{'_User__username': 'abc', '_User__first_name': 'ab', '_User__last_name': 'c', '_User__email': 'abc@gmail.com', 'contact': '8123456789', 'github': 'www.github.com/abc', 'linkedin': 'www.linkedin.com/abc'}\n",
      "('Hi from demo class', '8123456789', 'www.linkedin.com/abc')\n"
     ]
    }
   ],
   "source": [
    "class User:\n",
    "    def __init__(self,username,first_name,last_name,email):\n",
    "        self.__username  = username\n",
    "        self.__first_name = first_name\n",
    "        self.__last_name = last_name\n",
    "        self.__email =email\n",
    "        \n",
    "    def get_details(self):\n",
    "        return self.__username,self.__email\n",
    "        \n",
    "        \n",
    "class Demo(str):\n",
    "    def index (self):\n",
    "        return \"Hi from demo class\"\n",
    "\n",
    "class Profile(User,str):\n",
    "    def __init__(self,username,first_name,last_name,email,contact,github,linkedin):\n",
    "        super().__init__(username,first_name,last_name,email)\n",
    "        \n",
    "        self.contact = contact\n",
    "        self.github = github\n",
    "        self.linkedin = linkedin\n",
    "        \n",
    "    def get_details(self):\n",
    "        t = Demo.get_details(self)\n",
    "        return t,self.contact,self.linkedin\n",
    "\n",
    "    \n",
    "user = Profile('abc','ab','c','abc@gmail.com','8123456789',\"www.github.com/abc\",\"www.linkedin.com/abc\")\n",
    "# help(user)\n",
    "# print(user.first_name,user.contact)  \n",
    "print(user.__dict__)\n",
    "print(user.get_details())\n",
    "\n",
    "# depth first left to right \n",
    "\n",
    "\n",
    "   \n"
   ]
  },
  {
   "cell_type": "code",
   "execution_count": 21,
   "metadata": {},
   "outputs": [
    {
     "ename": "SyntaxError",
     "evalue": "invalid syntax (<ipython-input-21-26dc5bb74dee>, line 3)",
     "output_type": "error",
     "traceback": [
      "\u001b[1;36m  File \u001b[1;32m\"<ipython-input-21-26dc5bb74dee>\"\u001b[1;36m, line \u001b[1;32m3\u001b[0m\n\u001b[1;33m    data hiding : pubic ,__ => private ,\u001b[0m\n\u001b[1;37m              ^\u001b[0m\n\u001b[1;31mSyntaxError\u001b[0m\u001b[1;31m:\u001b[0m invalid syntax\n"
     ]
    }
   ],
   "source": [
    "Encapulation and abstraction \n",
    "Polymorphism  : overriding\n",
    "data hiding : pubic ,__ => private , _ => protected by convention "
   ]
  },
  {
   "cell_type": "code",
   "execution_count": 20,
   "metadata": {},
   "outputs": [
    {
     "name": "stdout",
     "output_type": "stream",
     "text": [
      "<class 'str'>\n"
     ]
    }
   ],
   "source": [
    "s = \"Python\"\n",
    "print(type(s))\n",
    "\n",
    "class str:\n",
    "    \n",
    "    def index(self):\n",
    "        "
   ]
  }
 ],
 "metadata": {
  "kernelspec": {
   "display_name": "Python 3",
   "language": "python",
   "name": "python3"
  },
  "language_info": {
   "codemirror_mode": {
    "name": "ipython",
    "version": 3
   },
   "file_extension": ".py",
   "mimetype": "text/x-python",
   "name": "python",
   "nbconvert_exporter": "python",
   "pygments_lexer": "ipython3",
   "version": "3.6.5"
  }
 },
 "nbformat": 4,
 "nbformat_minor": 2
}
