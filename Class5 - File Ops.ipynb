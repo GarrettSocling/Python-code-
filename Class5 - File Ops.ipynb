{
 "cells": [
  {
   "cell_type": "code",
   "execution_count": 6,
   "metadata": {},
   "outputs": [],
   "source": [
    "import pkg2.binary_search"
   ]
  },
  {
   "cell_type": "code",
   "execution_count": 10,
   "metadata": {},
   "outputs": [
    {
     "name": "stdout",
     "output_type": "stream",
     "text": [
      "True\n"
     ]
    }
   ],
   "source": [
    "l = [100,200,300,400,500]\n",
    "key = 400\n",
    "\n",
    "result = binary_search.binary_search(l,key)\n",
    "print(result)"
   ]
  },
  {
   "cell_type": "code",
   "execution_count": 2,
   "metadata": {},
   "outputs": [
    {
     "name": "stdout",
     "output_type": "stream",
     "text": [
      "True\n"
     ]
    }
   ],
   "source": [
    "from pkg2.binary_search import binary_search\n",
    "\n",
    "l = [100,200,300,400,500]\n",
    "key = 400\n",
    "\n",
    "result = binary_search(l,key)\n",
    "print(result)\n"
   ]
  },
  {
   "cell_type": "code",
   "execution_count": 3,
   "metadata": {},
   "outputs": [
    {
     "name": "stdout",
     "output_type": "stream",
     "text": [
      "['', 'C:\\\\ProgramData\\\\Anaconda3\\\\python36.zip', 'C:\\\\ProgramData\\\\Anaconda3\\\\DLLs', 'C:\\\\ProgramData\\\\Anaconda3\\\\lib', 'C:\\\\ProgramData\\\\Anaconda3', 'C:\\\\ProgramData\\\\Anaconda3\\\\lib\\\\site-packages', 'C:\\\\ProgramData\\\\Anaconda3\\\\lib\\\\site-packages\\\\win32', 'C:\\\\ProgramData\\\\Anaconda3\\\\lib\\\\site-packages\\\\win32\\\\lib', 'C:\\\\ProgramData\\\\Anaconda3\\\\lib\\\\site-packages\\\\Pythonwin', 'C:\\\\ProgramData\\\\Anaconda3\\\\lib\\\\site-packages\\\\IPython\\\\extensions', 'C:\\\\Users\\\\kunal\\\\.ipython', 'D:\\\\Softwares']\n"
     ]
    }
   ],
   "source": [
    "import sys\n",
    "sys.path.append('D:\\Softwares')\n",
    "print(sys.path)\n",
    "import test"
   ]
  },
  {
   "cell_type": "code",
   "execution_count": 3,
   "metadata": {},
   "outputs": [
    {
     "data": {
      "text/plain": [
       "'E:\\\\sessions Code\\\\August - WE 2 - 5'"
      ]
     },
     "execution_count": 3,
     "metadata": {},
     "output_type": "execute_result"
    }
   ],
   "source": [
    "%pwd"
   ]
  },
  {
   "cell_type": "code",
   "execution_count": 4,
   "metadata": {},
   "outputs": [
    {
     "name": "stdout",
     "output_type": "stream",
     "text": [
      "C:\\ProgramData\\Anaconda3\\python.exe\n"
     ]
    }
   ],
   "source": [
    "import sys\n",
    "print(sys.executable)"
   ]
  },
  {
   "cell_type": "markdown",
   "metadata": {},
   "source": [
    "### File Operations"
   ]
  },
  {
   "cell_type": "markdown",
   "metadata": {},
   "source": [
    "### Mode of Opening \n",
    "> - Read r r+\n",
    "> - Write w w+\n",
    "> - Append a a+"
   ]
  },
  {
   "cell_type": "code",
   "execution_count": 1,
   "metadata": {},
   "outputs": [],
   "source": [
    "fp = open(\"python3.7.txt\",\"r\",encoding='utf-8')"
   ]
  },
  {
   "cell_type": "code",
   "execution_count": 11,
   "metadata": {},
   "outputs": [
    {
     "name": "stdout",
     "output_type": "stream",
     "text": [
      "New Features\n",
      "PEP 563: Postponed Evaluation of Annotations\n",
      "The advent of type hints in Python uncovered two glaring usability issues with the functionality of annotations added in PEP 3107 and refined further in PEP 526:\n",
      "\n",
      "annotations could only use names which were already available in the current scope, in other words they didn’t support forward references of any kind; and\n",
      "annotating source code had adverse effects on startup time of Python programs.\n",
      "Both of these issues are fixed by postponing the evaluation of annotations. Instead of compiling code which executes expressions in annotations at their definition time, the compiler stores the annotation in a string form equivalent to the AST of the expression in question. If needed, annotations can be resolved at runtime using typing.get_type_hints(). In the common case where this is not required, the annotations are cheaper to store (since short strings are interned by the interpreter) and make startup time faster.\n",
      "\n",
      "Usability-wise, annotations now support forward references, making the following syntax valid:\n",
      "\n",
      "class C:\n",
      "    @classmethod\n",
      "    def from_string(cls, source: str) -> C:\n",
      "        ...\n",
      "\n",
      "    def validate_b(self, obj: B) -> bool:\n",
      "        ...\n",
      "\n",
      "class B:\n",
      "    ...\n",
      "Since this change breaks compatibility, the new behavior needs to be enabled on a per-module basis in Python 3.7 using a __future__ import:\n",
      "\n",
      "from __future__ import annotations\n",
      "It will become the default in Python 4.0.\n",
      "\n",
      "See also\n",
      "PEP 563 – Postponed evaluation of annotations\n",
      "PEP written and implemented by Łukasz Langa.\n",
      "PEP 538: Legacy C Locale Coercion\n",
      "An ongoing challenge within the Python 3 series has been determining a sensible default strategy for handling the “7-bit ASCII” text encoding assumption currently implied by the use of the default C or POSIX locale on non-Windows platforms.\n",
      "\n",
      "PEP 538 updates the default interpreter command line interface to automatically coerce that locale to an available UTF-8 based locale as described in the documentation of the new PYTHONCOERCECLOCALE environment variable. Automatically setting LC_CTYPE this way means that both the core interpreter and locale-aware C extensions (such as readline) will assume the use of UTF-8 as the default text encoding, rather than ASCII.\n",
      "\n",
      "The platform support definition in PEP 11 has also been updated to limit full text handling support to suitably configured non-ASCII based locales.\n",
      "\n",
      "As part of this change, the default error handler for stdin and stdout is now surrogateescape (rather than strict) when using any of the defined coercion target locales (currently C.UTF-8, C.utf8, and UTF-8). The default error handler for stderr continues to be backslashreplace, regardless of locale.\n",
      "\n",
      "Locale coercion is silent by default, but to assist in debugging potentially locale related integration problems, explicit warnings (emitted directly on stderr) can be requested by setting PYTHONCOERCECLOCALE=warn. This setting will also cause the Python runtime to emit a warning if the legacy C locale remains active when the core interpreter is initialized.\n",
      "\n",
      "While PEP 538’s locale coercion has the benefit of also affecting extension modules (such as GNU readline), as well as child processes (including those running non-Python applications and older versions of Python), it has the downside of requiring that a suitable target locale be present on the running system. To better handle the case where no suitable target locale is available (as occurs on RHEL/CentOS 7, for example), Python 3.7 also implements PEP 540: Forced UTF-8 Runtime Mode.\n",
      "\n",
      "See also\n",
      "PEP 538 – Coercing the legacy C locale to a UTF-8 based locale\n",
      "PEP written and implemented by Nick Coghlan.\n",
      "PEP 540: Forced UTF-8 Runtime Mode\n",
      "The new -X utf8 command line option and PYTHONUTF8 environment variable can be used to enable the CPython UTF-8 mode.\n",
      "\n",
      "When in UTF-8 mode, CPython ignores the locale settings, and uses the UTF-8 encoding by default. The error handlers for sys.stdin and sys.stdout streams are set to surrogateescape.\n",
      "\n",
      "The forced UTF-8 mode can be used to change the text handling behavior in an embedded Python interpreter without changing the locale settings of an embedding application.\n",
      "\n",
      "While PEP 540’s UTF-8 mode has the benefit of working regardless of which locales are available on the running system, it has the downside of having no effect on extension modules (such as GNU readline), child processes running non-Python applications, and child processes running older versions of Python. To reduce the risk of corrupting text data when communicating with such components, Python 3.7 also implements PEP 540: Forced UTF-8 Runtime Mode).\n",
      "\n",
      "The UTF-8 mode is enabled by default when the locale is C or POSIX, and the PEP 538 locale coercion feature fails to change it to a UTF-8 based alternative (whether that failure is due to PYTHONCOERCECLOCALE=0 being set, LC_ALL being set, or the lack of a suitable target locale).\n"
     ]
    }
   ],
   "source": [
    "content = fp.read()\n",
    "print(content)"
   ]
  },
  {
   "cell_type": "code",
   "execution_count": 2,
   "metadata": {},
   "outputs": [
    {
     "name": "stdout",
     "output_type": "stream",
     "text": [
      "New Features\n",
      "PEP 563: Postponed Evaluation of Anno\n"
     ]
    }
   ],
   "source": [
    "content = fp.read(50)\n",
    "print(content)"
   ]
  },
  {
   "cell_type": "code",
   "execution_count": 3,
   "metadata": {},
   "outputs": [
    {
     "name": "stdout",
     "output_type": "stream",
     "text": [
      "tations\n",
      "The advent of type hints in Python uncovered two glaring usability issues with the functionality of annotations added in PEP 3107 and refined further in PEP 526:\n",
      "\n",
      "annotations could only use names which were already available in the current scope, in other words they didn’t support forward references of any kind; and\n",
      "annotating source code had adverse effects on startup time of Python programs.\n",
      "Both of these issues are fixed by postponing the evaluation of annotations. Instead of compiling code which executes expressions in annotations at their definition time, the compiler stores the annotation in a string form equivalent to the AST of the expression in question. If needed, annotations can be resolved at runtime using typing.get_type_hints(). In the common case where this is not required, the annotations are cheaper to store (since short strings are interned by the interpreter) and make startup time faster.\n",
      "\n",
      "Usability-wise, annotations now support forward references, making the following syntax valid:\n",
      "\n",
      "class C:\n",
      "    @classmethod\n",
      "    def from_string(cls, source: str) -> C:\n",
      "        ...\n",
      "\n",
      "    def validate_b(self, obj: B) -> bool:\n",
      "        ...\n",
      "\n",
      "class B:\n",
      "    ...\n",
      "Since this change breaks compatibility, the new behavior needs to be enabled on a per-module basis in Python 3.7 using a __future__ import:\n",
      "\n",
      "from __future__ import annotations\n",
      "It will become the default in Python 4.0.\n",
      "\n",
      "See also\n",
      "PEP 563 – Postponed evaluation of annotations\n",
      "PEP written and implemented by Łukasz Langa.\n",
      "PEP 538: Legacy C Locale Coercion\n",
      "An ongoing challenge within the Python 3 series has been determining a sensible default strategy for handling the “7-bit ASCII” text encoding assumption currently implied by the use of the default C or POSIX locale on non-Windows platforms.\n",
      "\n",
      "PEP 538 updates the default interpreter command line interface to automatically coerce that locale to an available UTF-8 based locale as described in the documentation of the new PYTHONCOERCECLOCALE environment variable. Automatically setting LC_CTYPE this way means that both the core interpreter and locale-aware C extensions (such as readline) will assume the use of UTF-8 as the default text encoding, rather than ASCII.\n",
      "\n",
      "The platform support definition in PEP 11 has also been updated to limit full text handling support to suitably configured non-ASCII based locales.\n",
      "\n",
      "As part of this change, the default error handler for stdin and stdout is now surrogateescape (rather than strict) when using any of the defined coercion target locales (currently C.UTF-8, C.utf8, and UTF-8). The default error handler for stderr continues to be backslashreplace, regardless of locale.\n",
      "\n",
      "Locale coercion is silent by default, but to assist in debugging potentially locale related integration problems, explicit warnings (emitted directly on stderr) can be requested by setting PYTHONCOERCECLOCALE=warn. This setting will also cause the Python runtime to emit a warning if the legacy C locale remains active when the core interpreter is initialized.\n",
      "\n",
      "While PEP 538’s locale coercion has the benefit of also affecting extension modules (such as GNU readline), as well as child processes (including those running non-Python applications and older versions of Python), it has the downside of requiring that a suitable target locale be present on the running system. To better handle the case where no suitable target locale is available (as occurs on RHEL/CentOS 7, for example), Python 3.7 also implements PEP 540: Forced UTF-8 Runtime Mode.\n",
      "\n",
      "See also\n",
      "PEP 538 – Coercing the legacy C locale to a UTF-8 based locale\n",
      "PEP written and implemented by Nick Coghlan.\n",
      "PEP 540: Forced UTF-8 Runtime Mode\n",
      "The new -X utf8 command line option and PYTHONUTF8 environment variable can be used to enable the CPython UTF-8 mode.\n",
      "\n",
      "When in UTF-8 mode, CPython ignores the locale settings, and uses the UTF-8 encoding by default. The error handlers for sys.stdin and sys.stdout streams are set to surrogateescape.\n",
      "\n",
      "The forced UTF-8 mode can be used to change the text handling behavior in an embedded Python interpreter without changing the locale settings of an embedding application.\n",
      "\n",
      "While PEP 540’s UTF-8 mode has the benefit of working regardless of which locales are available on the running system, it has the downside of having no effect on extension modules (such as GNU readline), child processes running non-Python applications, and child processes running older versions of Python. To reduce the risk of corrupting text data when communicating with such components, Python 3.7 also implements PEP 540: Forced UTF-8 Runtime Mode).\n",
      "\n",
      "The UTF-8 mode is enabled by default when the locale is C or POSIX, and the PEP 538 locale coercion feature fails to change it to a UTF-8 based alternative (whether that failure is due to PYTHONCOERCECLOCALE=0 being set, LC_ALL being set, or the lack of a suitable target locale).\n"
     ]
    }
   ],
   "source": [
    "content = fp.read()\n",
    "print(content)"
   ]
  },
  {
   "cell_type": "code",
   "execution_count": 4,
   "metadata": {},
   "outputs": [
    {
     "name": "stdout",
     "output_type": "stream",
     "text": [
      "['\\n', 'annotations could only use names which were already available in the current scope, in other words they didn’t support forward references of any kind; and\\n', 'annotating source code had adverse effects on startup time of Python programs.\\n', 'Both of these issues are fixed by postponing the evaluation of annotations. Instead of compiling code which executes expressions in annotations at their definition time, the compiler stores the annotation in a string form equivalent to the AST of the expression in question. If needed, annotations can be resolved at runtime using typing.get_type_hints(). In the common case where this is not required, the annotations are cheaper to store (since short strings are interned by the interpreter) and make startup time faster.\\n', '\\n', 'Usability-wise, annotations now support forward references, making the following syntax valid:\\n', '\\n', 'class C:\\n', '    @classmethod\\n', '    def from_string(cls, source: str) -> C:\\n', '        ...\\n', '\\n', '    def validate_b(self, obj: B) -> bool:\\n', '        ...\\n', '\\n', 'class B:\\n', '    ...\\n', 'Since this change breaks compatibility, the new behavior needs to be enabled on a per-module basis in Python 3.7 using a __future__ import:\\n', '\\n', 'from __future__ import annotations\\n', 'It will become the default in Python 4.0.\\n', '\\n', 'See also\\n', 'PEP 563 – Postponed evaluation of annotations\\n', 'PEP written and implemented by Łukasz Langa.\\n', 'PEP 538: Legacy C Locale Coercion\\n', 'An ongoing challenge within the Python 3 series has been determining a sensible default strategy for handling the “7-bit ASCII” text encoding assumption currently implied by the use of the default C or POSIX locale on non-Windows platforms.\\n', '\\n', 'PEP 538 updates the default interpreter command line interface to automatically coerce that locale to an available UTF-8 based locale as described in the documentation of the new PYTHONCOERCECLOCALE environment variable. Automatically setting LC_CTYPE this way means that both the core interpreter and locale-aware C extensions (such as readline) will assume the use of UTF-8 as the default text encoding, rather than ASCII.\\n', '\\n', 'The platform support definition in PEP 11 has also been updated to limit full text handling support to suitably configured non-ASCII based locales.\\n', '\\n', 'As part of this change, the default error handler for stdin and stdout is now surrogateescape (rather than strict) when using any of the defined coercion target locales (currently C.UTF-8, C.utf8, and UTF-8). The default error handler for stderr continues to be backslashreplace, regardless of locale.\\n', '\\n', 'Locale coercion is silent by default, but to assist in debugging potentially locale related integration problems, explicit warnings (emitted directly on stderr) can be requested by setting PYTHONCOERCECLOCALE=warn. This setting will also cause the Python runtime to emit a warning if the legacy C locale remains active when the core interpreter is initialized.\\n', '\\n', 'While PEP 538’s locale coercion has the benefit of also affecting extension modules (such as GNU readline), as well as child processes (including those running non-Python applications and older versions of Python), it has the downside of requiring that a suitable target locale be present on the running system. To better handle the case where no suitable target locale is available (as occurs on RHEL/CentOS 7, for example), Python 3.7 also implements PEP 540: Forced UTF-8 Runtime Mode.\\n', '\\n', 'See also\\n', 'PEP 538 – Coercing the legacy C locale to a UTF-8 based locale\\n', 'PEP written and implemented by Nick Coghlan.\\n', 'PEP 540: Forced UTF-8 Runtime Mode\\n', 'The new -X utf8 command line option and PYTHONUTF8 environment variable can be used to enable the CPython UTF-8 mode.\\n', '\\n', 'When in UTF-8 mode, CPython ignores the locale settings, and uses the UTF-8 encoding by default. The error handlers for sys.stdin and sys.stdout streams are set to surrogateescape.\\n', '\\n', 'The forced UTF-8 mode can be used to change the text handling behavior in an embedded Python interpreter without changing the locale settings of an embedding application.\\n', '\\n', 'While PEP 540’s UTF-8 mode has the benefit of working regardless of which locales are available on the running system, it has the downside of having no effect on extension modules (such as GNU readline), child processes running non-Python applications, and child processes running older versions of Python. To reduce the risk of corrupting text data when communicating with such components, Python 3.7 also implements PEP 540: Forced UTF-8 Runtime Mode).\\n', '\\n', 'The UTF-8 mode is enabled by default when the locale is C or POSIX, and the PEP 538 locale coercion feature fails to change it to a UTF-8 based alternative (whether that failure is due to PYTHONCOERCECLOCALE=0 being set, LC_ALL being set, or the lack of a suitable target locale).']\n",
      "\n"
     ]
    }
   ],
   "source": [
    "content = fp.readlines()\n",
    "print(content)\n",
    "\n",
    "content = fp.readline()\n",
    "print(content)"
   ]
  },
  {
   "cell_type": "code",
   "execution_count": 7,
   "metadata": {},
   "outputs": [
    {
     "name": "stdout",
     "output_type": "stream",
     "text": [
      "0\n",
      "0\n",
      "There is new line to file\n"
     ]
    }
   ],
   "source": [
    "fp = open(\"test2.txt\",\"w+\")\n",
    "print(fp.tell())\n",
    "fp.write(\"There is new line to file\")\n",
    "fp.seek(0,0)\n",
    "print(fp.tell())\n",
    "content = fp.read()\n",
    "print(content)\n",
    "fp.close()"
   ]
  },
  {
   "cell_type": "code",
   "execution_count": null,
   "metadata": {},
   "outputs": [],
   "source": []
  },
  {
   "cell_type": "markdown",
   "metadata": {},
   "source": [
    "### Seek(offset,position)\n",
    "\n",
    "Position:  0 Start of the file\n",
    "           1 Current position \n",
    "           2 End of the file \n",
    "           \n",
    "seek(15,0) => 15 chars from start of the file \n",
    "seek(0,2)\n",
    "seek(0,0)"
   ]
  },
  {
   "cell_type": "code",
   "execution_count": 5,
   "metadata": {},
   "outputs": [],
   "source": [
    "fp = open(\"test2.txt\",\"r+\")\n",
    "\n",
    "# content =  fp.read()\n",
    "# print(content)\n",
    "fp.seek(0,2)\n",
    "fp.write(\"\\nAdd this line from r+ mode2\")\n",
    "\n",
    "fp.close()"
   ]
  },
  {
   "cell_type": "raw",
   "metadata": {},
   "source": [
    "fp  = open(\"test2.txt\",\"a+\")\n",
    "print(fp.tell())\n",
    "fp.write(\"\\nAdd this line from r+ mode4\")\n",
    "fp.seek(0)\n",
    "content = fp.read()\n",
    "print(content)\n",
    "fp.close()"
   ]
  },
  {
   "cell_type": "markdown",
   "metadata": {},
   "source": [
    "1. Read r : fp -> start , file not exist => error , operation => read \n",
    "2. r +    : fp => start , file not exist => error . operation = > read , write \n",
    "\n",
    "3. Write w : fp => start ,file not exist => create , opeartion => write \n",
    "4. w+      : fp => start , file not exist => create , opeartions => write + read \n",
    "\n",
    "5 Append : fp => end , file not exist => create , opeartions => write at end \n",
    "6 a+     : fp => end , file not exist => create , opeartions => write + read \n",
    "\n",
    "\n"
   ]
  },
  {
   "cell_type": "code",
   "execution_count": 8,
   "metadata": {},
   "outputs": [],
   "source": [
    "fp = open(\"test2.txt\",\"r\")\n",
    "fp1 = open(\"test3.txt\",\"a\")\n",
    "content = fp.read()\n",
    "# print(content)\n",
    "\n",
    "fp.seek(0)\n",
    "\n",
    "for row in fp:\n",
    "    temp = row.split(\" \")\n",
    "#     print(temp)\n",
    "    \n",
    "    values = temp[1].split(\",\")\n",
    "#     print(values)\n",
    "    sum = 0\n",
    "    for value in values :\n",
    "        sum = sum + int(value)\n",
    "    fp1.write(\"{} {}\\n\".format(temp[0],sum/len(values)))\n",
    "    \n",
    "fp1.close()\n",
    "fp.close()"
   ]
  }
 ],
 "metadata": {
  "kernelspec": {
   "display_name": "Python 3",
   "language": "python",
   "name": "python3"
  },
  "language_info": {
   "codemirror_mode": {
    "name": "ipython",
    "version": 3
   },
   "file_extension": ".py",
   "mimetype": "text/x-python",
   "name": "python",
   "nbconvert_exporter": "python",
   "pygments_lexer": "ipython3",
   "version": "3.6.5"
  }
 },
 "nbformat": 4,
 "nbformat_minor": 2
}
